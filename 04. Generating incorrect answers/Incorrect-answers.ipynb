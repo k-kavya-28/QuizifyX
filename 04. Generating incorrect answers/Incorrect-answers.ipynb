{
 "cells": [
  {
   "cell_type": "code",
   "execution_count": 38,
   "metadata": {},
   "outputs": [],
   "source": [
    "import gensim\n",
    "from gensim.test.utils import datapath, get_tmpfile\n",
    "from gensim.models import KeyedVectors"
   ]
  },
  {
   "cell_type": "code",
   "execution_count": 39,
   "metadata": {},
   "outputs": [],
   "source": [
    "glove_file = '../data/embeddings/glove.6B.300d.txt'\n",
    "tmp_file = '../data/embeddings/word2vec-glove.6B.300d.txt'"
   ]
  },
  {
   "cell_type": "code",
   "execution_count": 40,
   "metadata": {},
   "outputs": [
    {
     "name": "stderr",
     "output_type": "stream",
     "text": [
      "C:\\Users\\KHUSHI KAVYA\\AppData\\Local\\Temp\\ipykernel_62036\\2817985190.py:2: DeprecationWarning: Call to deprecated `glove2word2vec` (KeyedVectors.load_word2vec_format(.., binary=False, no_header=True) loads GLoVE text vectors.).\n",
      "  glove2word2vec(glove_file, tmp_file)\n"
     ]
    }
   ],
   "source": [
    "from gensim.scripts.glove2word2vec import glove2word2vec\n",
    "glove2word2vec(glove_file, tmp_file)\n",
    "model = KeyedVectors.load_word2vec_format(tmp_file)"
   ]
  },
  {
   "cell_type": "code",
   "execution_count": 41,
   "metadata": {
    "scrolled": true
   },
   "outputs": [
    {
     "data": {
      "text/plain": [
       "[('probo', 0.5426342487335205),\n",
       " ('koalas', 0.4729689657688141),\n",
       " ('orangutan', 0.4557289779186249),\n",
       " ('grizzly', 0.418164998292923),\n",
       " ('marsupial', 0.39361125230789185),\n",
       " ('wombat', 0.3832378387451172),\n",
       " ('cuddly', 0.3804109990596771),\n",
       " ('kodiak', 0.37843799591064453),\n",
       " ('kade', 0.37742382287979126),\n",
       " ('kangaroo', 0.3612629473209381)]"
      ]
     },
     "execution_count": 41,
     "metadata": {},
     "output_type": "execute_result"
    }
   ],
   "source": [
    "model.most_similar(positive=['koala'], topn=10)"
   ]
  },
  {
   "cell_type": "markdown",
   "metadata": {},
   "source": [
    "Chemicals"
   ]
  },
  {
   "cell_type": "code",
   "execution_count": 42,
   "metadata": {},
   "outputs": [
    {
     "data": {
      "text/plain": [
       "[('hydrogen', 0.63267982006073),\n",
       " ('nitrogen', 0.6251460313796997),\n",
       " ('helium', 0.5435217022895813),\n",
       " ('nutrients', 0.5369840860366821),\n",
       " ('breathing', 0.5023170113563538),\n",
       " ('chlorine', 0.494693785905838),\n",
       " ('monoxide', 0.4911428987979889),\n",
       " ('dioxide', 0.4911196231842041),\n",
       " ('ammonia', 0.4907909035682678),\n",
       " ('carbon', 0.4836854636669159)]"
      ]
     },
     "execution_count": 42,
     "metadata": {},
     "output_type": "execute_result"
    }
   ],
   "source": [
    "model.most_similar(positive=['oxygen'], topn=10)"
   ]
  },
  {
   "cell_type": "markdown",
   "metadata": {},
   "source": [
    "two words"
   ]
  },
  {
   "cell_type": "code",
   "execution_count": 43,
   "metadata": {},
   "outputs": [
    {
     "data": {
      "text/plain": [
       "[('faculty', 0.5288036465644836),\n",
       " ('college', 0.5237010717391968),\n",
       " ('professor', 0.5193325877189636),\n",
       " ('graduate', 0.5135288834571838),\n",
       " ('universities', 0.5098860263824463),\n",
       " ('copenhagen', 0.5022274851799011),\n",
       " ('campus', 0.4942850172519684),\n",
       " ('prague', 0.48807740211486816),\n",
       " ('madrid', 0.4852182865142822),\n",
       " ('portugal', 0.47880998253822327)]"
      ]
     },
     "execution_count": 43,
     "metadata": {},
     "output_type": "execute_result"
    }
   ],
   "source": [
    "model.most_similar(positive=['lisbon', 'university'], topn=10)"
   ]
  },
  {
   "cell_type": "markdown",
   "metadata": {},
   "source": [
    "Numbers"
   ]
  },
  {
   "cell_type": "code",
   "execution_count": 44,
   "metadata": {},
   "outputs": [
    {
     "data": {
      "text/plain": [
       "[('1943', 0.9581360816955566),\n",
       " ('1942', 0.9418259859085083),\n",
       " ('1941', 0.9256348609924316),\n",
       " ('1940', 0.8975383043289185),\n",
       " ('1945', 0.8817086219787598),\n",
       " ('1939', 0.8315709233283997),\n",
       " ('1946', 0.8234673142433167),\n",
       " ('1938', 0.7819805145263672),\n",
       " ('1937', 0.7764102220535278),\n",
       " ('1935', 0.7516503930091858)]"
      ]
     },
     "execution_count": 44,
     "metadata": {},
     "output_type": "execute_result"
    }
   ],
   "source": [
    "model.most_similar(positive=['1944'], topn=10)"
   ]
  },
  {
   "cell_type": "markdown",
   "metadata": {},
   "source": [
    "Names"
   ]
  },
  {
   "cell_type": "code",
   "execution_count": 45,
   "metadata": {},
   "outputs": [
    {
     "data": {
      "text/plain": [
       "[('postulate', 0.4412064254283905),\n",
       " ('archimedes', 0.43941453099250793),\n",
       " ('n.e.', 0.39649108052253723),\n",
       " ('pythagoras', 0.39116498827934265),\n",
       " ('aristotle', 0.3895653486251831),\n",
       " ('avenue', 0.38695403933525085),\n",
       " ('proclus', 0.3855825662612915),\n",
       " ('greektown', 0.3836863040924072),\n",
       " ('ptolemy', 0.38028305768966675),\n",
       " ('berea', 0.37123367190361023)]"
      ]
     },
     "execution_count": 45,
     "metadata": {},
     "output_type": "execute_result"
    }
   ],
   "source": [
    "model.most_similar(positive=['euclid'], topn=10)"
   ]
  },
  {
   "cell_type": "code",
   "execution_count": 46,
   "metadata": {},
   "outputs": [],
   "source": [
    "def generate_distractors(answer, count):\n",
    "    answer = str.lower(answer)\n",
    "    \n",
    "    try:\n",
    "        closestWords = model.most_similar(positive=[answer], topn=count)\n",
    "    except:\n",
    "        return []\n",
    "\n",
    "    distractors = list(map(lambda x: x[0], closestWords))[0:count]\n",
    "    \n",
    "    return distractors"
   ]
  },
  {
   "cell_type": "code",
   "execution_count": 47,
   "metadata": {},
   "outputs": [
    {
     "data": {
      "text/plain": [
       "['hydrogen', 'nitrogen', 'helium', 'nutrients']"
      ]
     },
     "execution_count": 47,
     "metadata": {},
     "output_type": "execute_result"
    }
   ],
   "source": [
    "generate_distractors('oxygen', 4)"
   ]
  },
  {
   "cell_type": "code",
   "execution_count": 48,
   "metadata": {},
   "outputs": [
    {
     "data": {
      "text/plain": [
       "['romania', 'hungary', 'ukraine', 'slovakia', 'bulgarian', 'macedonia']"
      ]
     },
     "execution_count": 48,
     "metadata": {},
     "output_type": "execute_result"
    }
   ],
   "source": [
    "generate_distractors('bulgaria', 6)"
   ]
  }
 ],
 "metadata": {
  "celltoolbar": "Raw Cell Format",
  "kernelspec": {
   "display_name": "Python 3",
   "language": "python",
   "name": "python3"
  },
  "language_info": {
   "codemirror_mode": {
    "name": "ipython",
    "version": 3
   },
   "file_extension": ".py",
   "mimetype": "text/x-python",
   "name": "python",
   "nbconvert_exporter": "python",
   "pygments_lexer": "ipython3",
   "version": "3.11.9"
  }
 },
 "nbformat": 4,
 "nbformat_minor": 4
}
